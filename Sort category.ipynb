{
  "cells": [
    {
      "cell_type": "code",
      "execution_count": 1,
      "id": "d16a527c",
      "metadata": {
        "id": "d16a527c"
      },
      "outputs": [],
      "source": [
        "import os\n",
        "import openpyxl\n",
        "import pandas as pd\n",
        "import numpy as np"
      ]
    },
    {
      "cell_type": "code",
      "execution_count": 2,
      "id": "5072cb4e",
      "metadata": {
        "id": "5072cb4e"
      },
      "outputs": [],
      "source": [
        "workbook = openpyxl.load_workbook('/content/TH Read0203_0517-0818_TH_concate_translate_process_minus.xlsx')"
      ]
    },
    {
      "cell_type": "code",
      "execution_count": 3,
      "id": "676a4e70",
      "metadata": {
        "colab": {
          "base_uri": "https://localhost:8080/"
        },
        "id": "676a4e70",
        "outputId": "c6744b8e-7a47-4b5a-bc2f-eeeba5ad81b5"
      },
      "outputs": [
        {
          "output_type": "stream",
          "name": "stdout",
          "text": [
            "05_2017-2022_TH_concate_transla\n",
            "DateClass\n",
            "ThaiFirst100\n"
          ]
        }
      ],
      "source": [
        "sheet_names = workbook.sheetnames\n",
        "for sheet_name in sheet_names:\n",
        "    print(sheet_name)"
      ]
    },
    {
      "cell_type": "code",
      "execution_count": 4,
      "id": "98d78634",
      "metadata": {
        "id": "98d78634"
      },
      "outputs": [],
      "source": [
        "worksheet = workbook['05_2017-2022_TH_concate_transla']"
      ]
    },
    {
      "cell_type": "code",
      "execution_count": 5,
      "id": "32cecb1e",
      "metadata": {
        "id": "32cecb1e"
      },
      "outputs": [],
      "source": [
        "data = worksheet.values\n",
        "header_row = next(data)\n",
        "df = pd.DataFrame(data, columns=header_row)"
      ]
    },
    {
      "cell_type": "code",
      "execution_count": 6,
      "id": "80878219",
      "metadata": {
        "id": "80878219"
      },
      "outputs": [],
      "source": [
        "df.to_csv('sample_tweets.csv', index=False)"
      ]
    },
    {
      "cell_type": "code",
      "execution_count": 7,
      "id": "cd502105",
      "metadata": {
        "colab": {
          "base_uri": "https://localhost:8080/"
        },
        "id": "cd502105",
        "outputId": "96a06637-b00b-406b-d0ca-307c0202fd64"
      },
      "outputs": [
        {
          "output_type": "execute_result",
          "data": {
            "text/plain": [
              "Index(['author_id', 'geo.place_id', 'username', 'author_followers',\n",
              "       'author_tweets', 'author_description', 'author_location', 'tweet',\n",
              "       'created_at', 'retweets', 'replies', 'likes', 'quote_count', 'Iden',\n",
              "       'Sentiment', 'Topic', 'processed', 'translated', 'tr_processed'],\n",
              "      dtype='object')"
            ]
          },
          "metadata": {},
          "execution_count": 7
        }
      ],
      "source": [
        "df.columns"
      ]
    },
    {
      "cell_type": "code",
      "execution_count": 8,
      "id": "34ae747c",
      "metadata": {
        "colab": {
          "base_uri": "https://localhost:8080/"
        },
        "id": "34ae747c",
        "outputId": "5d86e0e3-6025-492a-c7b6-570603995278"
      },
      "outputs": [
        {
          "output_type": "stream",
          "name": "stdout",
          "text": [
            "['Misuse' 'Joke' 'Ridicule' 'Fact' 'Weapon' 'Advocacy' 'Ads' 'Symptom'\n",
            " 'Prevention' 'Personal' 'Risk' 'Undefine' 'Research' 'Figurative' None\n",
            " 'Symptoms' 'Diagnosis' 'Undefined' 'Treatment']\n"
          ]
        }
      ],
      "source": [
        "unique = df['Topic'].unique()\n",
        "print(unique)"
      ]
    },
    {
      "cell_type": "code",
      "execution_count": 9,
      "id": "f869ac37",
      "metadata": {
        "colab": {
          "base_uri": "https://localhost:8080/"
        },
        "id": "f869ac37",
        "outputId": "1ef19b5c-12dc-4a34-a7d6-f1bb2217d170"
      },
      "outputs": [
        {
          "output_type": "stream",
          "name": "stdout",
          "text": [
            "Misuse 290\n",
            "Weapon 93\n",
            "Joke 69\n",
            "Fact 61\n",
            "Ridicule 56\n",
            "Prevention 40\n",
            "Personal 37\n",
            "Ads 17\n",
            "Advocacy 16\n",
            "Symptom 10\n",
            "Research 10\n",
            "Figurative 4\n",
            "Risk 3\n",
            "Undefine 2\n",
            "Symptoms 2\n",
            "Diagnosis 2\n",
            "Treatment 2\n",
            "Undefined 1\n"
          ]
        }
      ],
      "source": [
        "Topic_counts = df['Topic'].value_counts()\n",
        "for Topic, count in Topic_counts.items():\n",
        "    print(Topic, count)"
      ]
    },
    {
      "cell_type": "code",
      "execution_count": 10,
      "id": "50e6769d",
      "metadata": {
        "id": "50e6769d"
      },
      "outputs": [],
      "source": [
        "df['Topic'] = df['Topic'].fillna('NA')"
      ]
    },
    {
      "cell_type": "code",
      "execution_count": 11,
      "id": "36688cbb",
      "metadata": {
        "colab": {
          "base_uri": "https://localhost:8080/"
        },
        "id": "36688cbb",
        "outputId": "5528f417-4d35-4f3e-c874-a6da199ec8aa"
      },
      "outputs": [
        {
          "output_type": "stream",
          "name": "stdout",
          "text": [
            "NA 12229\n",
            "Misuse 290\n",
            "Weapon 93\n",
            "Joke 69\n",
            "Fact 61\n",
            "Ridicule 56\n",
            "Prevention 40\n",
            "Personal 37\n",
            "Ads 17\n",
            "Advocacy 16\n",
            "Symptom 10\n",
            "Research 10\n",
            "Figurative 4\n",
            "Risk 3\n",
            "Undefine 2\n",
            "Symptoms 2\n",
            "Diagnosis 2\n",
            "Treatment 2\n",
            "Undefined 1\n"
          ]
        }
      ],
      "source": [
        "Topic_counts = df['Topic'].value_counts()\n",
        "for Topic, count in Topic_counts.items():\n",
        "    print(Topic, count)"
      ]
    },
    {
      "cell_type": "code",
      "execution_count": 12,
      "id": "553bf7df",
      "metadata": {
        "id": "553bf7df"
      },
      "outputs": [],
      "source": [
        "df.to_csv('sample_tweets_fill_NA.csv', index=False)"
      ]
    },
    {
      "cell_type": "code",
      "execution_count": 13,
      "id": "1ab4e58c",
      "metadata": {
        "collapsed": true,
        "colab": {
          "base_uri": "https://localhost:8080/"
        },
        "id": "1ab4e58c",
        "outputId": "d64b4088-48fa-496c-a5e1-6372c67ee74b"
      },
      "outputs": [
        {
          "output_type": "stream",
          "name": "stdout",
          "text": [
            "['Misuse' 'Joke' 'Ridicule' 'Fact' 'Weapon' 'Advocacy' 'Ads' 'Symptom'\n",
            " 'Prevention' 'Personal' 'Risk' 'Undefine' 'Research' 'Figurative' 'NA'\n",
            " 'Symptoms' 'Diagnosis' 'Undefined' 'Treatment']\n"
          ]
        }
      ],
      "source": [
        "unique = df['Topic'].unique()\n",
        "print(unique)"
      ]
    },
    {
      "cell_type": "code",
      "execution_count": null,
      "id": "74a95a97",
      "metadata": {
        "id": "74a95a97"
      },
      "outputs": [],
      "source": [
        "random_df = df.groupby('Topic', group_keys=False).apply(lambda x: x.sample(min(len(x), 30), random_state=42))\n",
        "print(random_df)"
      ]
    },
    {
      "cell_type": "code",
      "execution_count": 15,
      "id": "d339650f",
      "metadata": {
        "id": "d339650f"
      },
      "outputs": [],
      "source": [
        "random_df.to_csv('sample_tweets_random.csv', index=False)"
      ]
    },
    {
      "cell_type": "code",
      "execution_count": 16,
      "id": "9d6b5dde",
      "metadata": {
        "colab": {
          "base_uri": "https://localhost:8080/"
        },
        "id": "9d6b5dde",
        "outputId": "977d6f5c-434e-479a-a682-c328a333d082"
      },
      "outputs": [
        {
          "output_type": "stream",
          "name": "stdout",
          "text": [
            "Prevention 30\n",
            "Misuse 30\n",
            "Ridicule 30\n",
            "Personal 30\n",
            "NA 30\n",
            "Weapon 30\n",
            "Joke 30\n",
            "Fact 30\n",
            "Ads 17\n",
            "Advocacy 16\n",
            "Research 10\n",
            "Symptom 10\n",
            "Figurative 4\n",
            "Risk 3\n",
            "Diagnosis 2\n",
            "Symptoms 2\n",
            "Treatment 2\n",
            "Undefine 2\n",
            "Undefined 1\n"
          ]
        }
      ],
      "source": [
        "Topic_counts = random_df['Topic'].value_counts()\n",
        "for Topic, count in Topic_counts.items():\n",
        "    print(Topic, count)"
      ]
    }
  ],
  "metadata": {
    "kernelspec": {
      "display_name": "Python [conda env:root] *",
      "language": "python",
      "name": "conda-root-py"
    },
    "language_info": {
      "codemirror_mode": {
        "name": "ipython",
        "version": 3
      },
      "file_extension": ".py",
      "mimetype": "text/x-python",
      "name": "python",
      "nbconvert_exporter": "python",
      "pygments_lexer": "ipython3",
      "version": "3.8.5"
    },
    "colab": {
      "provenance": []
    }
  },
  "nbformat": 4,
  "nbformat_minor": 5
}
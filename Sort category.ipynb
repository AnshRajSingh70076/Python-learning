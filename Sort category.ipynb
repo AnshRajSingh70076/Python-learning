{
 "cells": [
  {
   "cell_type": "code",
   "execution_count": 12,
   "id": "d16a527c",
   "metadata": {},
   "outputs": [],
   "source": [
    "import os\n",
    "import openpyxl\n",
    "import pandas as pd\n",
    "import numpy as np"
   ]
  },
  {
   "cell_type": "code",
   "execution_count": 31,
   "id": "14bf4ce6",
   "metadata": {},
   "outputs": [],
   "source": [
    "os.chdir(r'I:\\Dementia')"
   ]
  },
  {
   "cell_type": "code",
   "execution_count": 32,
   "id": "5072cb4e",
   "metadata": {},
   "outputs": [],
   "source": [
    "workbook = openpyxl.load_workbook('TH Read0203_0517-0818_TH_concate_translate_process_minus.xlsx')"
   ]
  },
  {
   "cell_type": "code",
   "execution_count": 33,
   "id": "676a4e70",
   "metadata": {},
   "outputs": [
    {
     "name": "stdout",
     "output_type": "stream",
     "text": [
      "05_2017-2022_TH_concate_transla\n",
      "DateClass\n",
      "ThaiFirst100\n"
     ]
    }
   ],
   "source": [
    "sheet_names = workbook.sheetnames\n",
    "for sheet_name in sheet_names:\n",
    "    print(sheet_name)"
   ]
  },
  {
   "cell_type": "code",
   "execution_count": 49,
   "id": "98d78634",
   "metadata": {},
   "outputs": [],
   "source": [
    "worksheet = workbook['05_2017-2022_TH_concate_transla']"
   ]
  },
  {
   "cell_type": "code",
   "execution_count": 50,
   "id": "32cecb1e",
   "metadata": {},
   "outputs": [],
   "source": [
    "data = worksheet.values\n",
    "header_row = next(data)\n",
    "df = pd.DataFrame(data, columns=header_row)"
   ]
  },
  {
   "cell_type": "code",
   "execution_count": 51,
   "id": "80878219",
   "metadata": {},
   "outputs": [],
   "source": [
    "df.to_csv('sample_tweets.csv', index=False)"
   ]
  },
  {
   "cell_type": "code",
   "execution_count": 52,
   "id": "cd502105",
   "metadata": {},
   "outputs": [
    {
     "data": {
      "text/plain": [
       "Index(['author_id', 'geo.place_id', 'username', 'author_followers',\n",
       "       'author_tweets', 'author_description', 'author_location', 'tweet',\n",
       "       'created_at', 'retweets', 'replies', 'likes', 'quote_count', 'Iden',\n",
       "       'Sentiment', 'Topic', 'processed', 'translated', 'tr_processed'],\n",
       "      dtype='object')"
      ]
     },
     "execution_count": 52,
     "metadata": {},
     "output_type": "execute_result"
    }
   ],
   "source": [
    "df.columns"
   ]
  },
  {
   "cell_type": "code",
   "execution_count": 53,
   "id": "34ae747c",
   "metadata": {},
   "outputs": [
    {
     "name": "stdout",
     "output_type": "stream",
     "text": [
      "['Misuse' 'Joke' 'Ridicule' 'Fact' 'Weapon' 'Advocacy' 'Ads' 'Symptom'\n",
      " 'Prevention' 'Personal' 'Risk' 'Undefine' 'Research' 'Figurative' None\n",
      " 'Symptoms' 'Diagnosis' 'Undefined' 'Treatment']\n"
     ]
    }
   ],
   "source": [
    "unique = df['Topic'].unique()\n",
    "print(unique)"
   ]
  },
  {
   "cell_type": "code",
   "execution_count": 55,
   "id": "f869ac37",
   "metadata": {},
   "outputs": [
    {
     "name": "stdout",
     "output_type": "stream",
     "text": [
      "Misuse 290\n",
      "Weapon 93\n",
      "Joke 69\n",
      "Fact 61\n",
      "Ridicule 56\n",
      "Prevention 40\n",
      "Personal 37\n",
      "Ads 17\n",
      "Advocacy 16\n",
      "Symptom 10\n",
      "Research 10\n",
      "Figurative 4\n",
      "Risk 3\n",
      "Undefine 2\n",
      "Symptoms 2\n",
      "Treatment 2\n",
      "Diagnosis 2\n",
      "Undefined 1\n"
     ]
    }
   ],
   "source": [
    "Topic_counts = df['Topic'].value_counts()\n",
    "for Topic, count in Topic_counts.items():\n",
    "    print(Topic, count)"
   ]
  },
  {
   "cell_type": "code",
   "execution_count": 56,
   "id": "50e6769d",
   "metadata": {},
   "outputs": [],
   "source": [
    "df['Topic'] = df['Topic'].fillna('NA')"
   ]
  },
  {
   "cell_type": "code",
   "execution_count": 59,
   "id": "36688cbb",
   "metadata": {},
   "outputs": [
    {
     "name": "stdout",
     "output_type": "stream",
     "text": [
      "NA 12229\n",
      "Misuse 290\n",
      "Weapon 93\n",
      "Joke 69\n",
      "Fact 61\n",
      "Ridicule 56\n",
      "Prevention 40\n",
      "Personal 37\n",
      "Ads 17\n",
      "Advocacy 16\n",
      "Symptom 10\n",
      "Research 10\n",
      "Figurative 4\n",
      "Risk 3\n",
      "Symptoms 2\n",
      "Undefine 2\n",
      "Treatment 2\n",
      "Diagnosis 2\n",
      "Undefined 1\n"
     ]
    }
   ],
   "source": [
    "Topic_counts = df['Topic'].value_counts()\n",
    "for Topic, count in Topic_counts.items():\n",
    "    print(Topic, count)"
   ]
  },
  {
   "cell_type": "code",
   "execution_count": 60,
   "id": "553bf7df",
   "metadata": {},
   "outputs": [],
   "source": [
    "df.to_csv('sample_tweets_fill_NA.csv', index=False)"
   ]
  },
  {
   "cell_type": "code",
   "execution_count": 43,
   "id": "1ab4e58c",
   "metadata": {
    "collapsed": true
   },
   "outputs": [
    {
     "ename": "KeyError",
     "evalue": "'Topic'",
     "output_type": "error",
     "traceback": [
      "\u001b[1;31m---------------------------------------------------------------------------\u001b[0m",
      "\u001b[1;31mKeyError\u001b[0m                                  Traceback (most recent call last)",
      "\u001b[1;32m<ipython-input-43-28d44788e63c>\u001b[0m in \u001b[0;36m<module>\u001b[1;34m\u001b[0m\n\u001b[1;32m----> 1\u001b[1;33m \u001b[0munique\u001b[0m \u001b[1;33m=\u001b[0m \u001b[0mdf\u001b[0m\u001b[1;33m[\u001b[0m\u001b[1;34m'Topic'\u001b[0m\u001b[1;33m]\u001b[0m\u001b[1;33m.\u001b[0m\u001b[0munique\u001b[0m\u001b[1;33m(\u001b[0m\u001b[1;33m)\u001b[0m\u001b[1;33m\u001b[0m\u001b[1;33m\u001b[0m\u001b[0m\n\u001b[0m\u001b[0;32m      2\u001b[0m \u001b[0mprint\u001b[0m\u001b[1;33m(\u001b[0m\u001b[0munique\u001b[0m\u001b[1;33m)\u001b[0m\u001b[1;33m\u001b[0m\u001b[1;33m\u001b[0m\u001b[0m\n",
      "\u001b[1;32m~\\AppData\\Roaming\\Python\\Python38\\site-packages\\pandas\\core\\series.py\u001b[0m in \u001b[0;36m__getitem__\u001b[1;34m(self, key)\u001b[0m\n\u001b[0;32m    851\u001b[0m \u001b[1;33m\u001b[0m\u001b[0m\n\u001b[0;32m    852\u001b[0m         \u001b[1;32melif\u001b[0m \u001b[0mkey_is_scalar\u001b[0m\u001b[1;33m:\u001b[0m\u001b[1;33m\u001b[0m\u001b[1;33m\u001b[0m\u001b[0m\n\u001b[1;32m--> 853\u001b[1;33m             \u001b[1;32mreturn\u001b[0m \u001b[0mself\u001b[0m\u001b[1;33m.\u001b[0m\u001b[0m_get_value\u001b[0m\u001b[1;33m(\u001b[0m\u001b[0mkey\u001b[0m\u001b[1;33m)\u001b[0m\u001b[1;33m\u001b[0m\u001b[1;33m\u001b[0m\u001b[0m\n\u001b[0m\u001b[0;32m    854\u001b[0m \u001b[1;33m\u001b[0m\u001b[0m\n\u001b[0;32m    855\u001b[0m         \u001b[1;32mif\u001b[0m \u001b[0mis_hashable\u001b[0m\u001b[1;33m(\u001b[0m\u001b[0mkey\u001b[0m\u001b[1;33m)\u001b[0m\u001b[1;33m:\u001b[0m\u001b[1;33m\u001b[0m\u001b[1;33m\u001b[0m\u001b[0m\n",
      "\u001b[1;32m~\\AppData\\Roaming\\Python\\Python38\\site-packages\\pandas\\core\\series.py\u001b[0m in \u001b[0;36m_get_value\u001b[1;34m(self, label, takeable)\u001b[0m\n\u001b[0;32m    959\u001b[0m \u001b[1;33m\u001b[0m\u001b[0m\n\u001b[0;32m    960\u001b[0m         \u001b[1;31m# Similar to Index.get_value, but we do not fall back to positional\u001b[0m\u001b[1;33m\u001b[0m\u001b[1;33m\u001b[0m\u001b[1;33m\u001b[0m\u001b[0m\n\u001b[1;32m--> 961\u001b[1;33m         \u001b[0mloc\u001b[0m \u001b[1;33m=\u001b[0m \u001b[0mself\u001b[0m\u001b[1;33m.\u001b[0m\u001b[0mindex\u001b[0m\u001b[1;33m.\u001b[0m\u001b[0mget_loc\u001b[0m\u001b[1;33m(\u001b[0m\u001b[0mlabel\u001b[0m\u001b[1;33m)\u001b[0m\u001b[1;33m\u001b[0m\u001b[1;33m\u001b[0m\u001b[0m\n\u001b[0m\u001b[0;32m    962\u001b[0m         \u001b[1;32mreturn\u001b[0m \u001b[0mself\u001b[0m\u001b[1;33m.\u001b[0m\u001b[0mindex\u001b[0m\u001b[1;33m.\u001b[0m\u001b[0m_get_values_for_loc\u001b[0m\u001b[1;33m(\u001b[0m\u001b[0mself\u001b[0m\u001b[1;33m,\u001b[0m \u001b[0mloc\u001b[0m\u001b[1;33m,\u001b[0m \u001b[0mlabel\u001b[0m\u001b[1;33m)\u001b[0m\u001b[1;33m\u001b[0m\u001b[1;33m\u001b[0m\u001b[0m\n\u001b[0;32m    963\u001b[0m \u001b[1;33m\u001b[0m\u001b[0m\n",
      "\u001b[1;32m~\\AppData\\Roaming\\Python\\Python38\\site-packages\\pandas\\core\\indexes\\range.py\u001b[0m in \u001b[0;36mget_loc\u001b[1;34m(self, key, method, tolerance)\u001b[0m\n\u001b[0;32m    352\u001b[0m                 \u001b[1;32mexcept\u001b[0m \u001b[0mValueError\u001b[0m \u001b[1;32mas\u001b[0m \u001b[0merr\u001b[0m\u001b[1;33m:\u001b[0m\u001b[1;33m\u001b[0m\u001b[1;33m\u001b[0m\u001b[0m\n\u001b[0;32m    353\u001b[0m                     \u001b[1;32mraise\u001b[0m \u001b[0mKeyError\u001b[0m\u001b[1;33m(\u001b[0m\u001b[0mkey\u001b[0m\u001b[1;33m)\u001b[0m \u001b[1;32mfrom\u001b[0m \u001b[0merr\u001b[0m\u001b[1;33m\u001b[0m\u001b[1;33m\u001b[0m\u001b[0m\n\u001b[1;32m--> 354\u001b[1;33m             \u001b[1;32mraise\u001b[0m \u001b[0mKeyError\u001b[0m\u001b[1;33m(\u001b[0m\u001b[0mkey\u001b[0m\u001b[1;33m)\u001b[0m\u001b[1;33m\u001b[0m\u001b[1;33m\u001b[0m\u001b[0m\n\u001b[0m\u001b[0;32m    355\u001b[0m         \u001b[1;32mreturn\u001b[0m \u001b[0msuper\u001b[0m\u001b[1;33m(\u001b[0m\u001b[1;33m)\u001b[0m\u001b[1;33m.\u001b[0m\u001b[0mget_loc\u001b[0m\u001b[1;33m(\u001b[0m\u001b[0mkey\u001b[0m\u001b[1;33m,\u001b[0m \u001b[0mmethod\u001b[0m\u001b[1;33m=\u001b[0m\u001b[0mmethod\u001b[0m\u001b[1;33m,\u001b[0m \u001b[0mtolerance\u001b[0m\u001b[1;33m=\u001b[0m\u001b[0mtolerance\u001b[0m\u001b[1;33m)\u001b[0m\u001b[1;33m\u001b[0m\u001b[1;33m\u001b[0m\u001b[0m\n\u001b[0;32m    356\u001b[0m \u001b[1;33m\u001b[0m\u001b[0m\n",
      "\u001b[1;31mKeyError\u001b[0m: 'Topic'"
     ]
    }
   ],
   "source": [
    "unique = df['Topic'].unique()\n",
    "print(unique)"
   ]
  },
  {
   "cell_type": "code",
   "execution_count": 61,
   "id": "74a95a97",
   "metadata": {},
   "outputs": [
    {
     "name": "stdout",
     "output_type": "stream",
     "text": [
      "                 author_id                      geo.place_id         username  \\\n",
      "17     1187551387116195840                              None  AsawinDrink4IN1   \n",
      "40     1518926002508165122                              None      BooksClub15   \n",
      "6568   1072451059690299392  {'place_id': '002b486f238f4bfd'}          SgedeYa   \n",
      "11315             64942595                              None      PANsunshine   \n",
      "9051    767646931514302464                              None        luck_porn   \n",
      "...                    ...                               ...              ...   \n",
      "91     1262050399147536384                              None   bbrightvc_pusa   \n",
      "11093           2621832504                              None      _syerenight   \n",
      "11433            316367485                              None       patciiz_pm   \n",
      "199    1493528924743409668                              None      NimWutipong   \n",
      "12446   841141019055857664                              None    urboykuanlinx   \n",
      "\n",
      "       author_followers  author_tweets  \\\n",
      "17                 13.0          116.0   \n",
      "40                  0.0           25.0   \n",
      "6568               26.0         4098.0   \n",
      "11315            3404.0        20884.0   \n",
      "9051               40.0          849.0   \n",
      "...                 ...            ...   \n",
      "91                885.0        65498.0   \n",
      "11093             200.0         4762.0   \n",
      "11433             344.0       446417.0   \n",
      "199                 2.0          102.0   \n",
      "12446             104.0        16221.0   \n",
      "\n",
      "                                      author_description  \\\n",
      "17     เครื่องดื่มนวัตกรรม ตราอัศวิน\\nผสม พริกไทยดำ ข...   \n",
      "40     Find the best deal for the book that you inter...   \n",
      "6568                                            แก้มบุ๋ม   \n",
      "11315  • ความสงบสุขจากภายใน • การพัฒนาตัวเอง • การตลา...   \n",
      "9051                                  ทักไลด์: @ arleela   \n",
      "...                                                  ...   \n",
      "91     ᥫᩣ 𝓫𝓫𝓻𝓲𝓰𝓱𝓽𝓿𝓬  ᥫᩣ Songkang_B ♡¸.•\\n ʙʀɪɢʜᴛꜱ♡ꜰᴏʀ...   \n",
      "11093                                                 ♡♡   \n",
      "11433  20⬆️ | #EXO : 백현✨ | ท้บ🥛| น้องเม🐈‍⬛ | สลิ่มโชโ...   \n",
      "199                                                 None   \n",
      "12446                   พี่แดเนียลเมื่อไหร่จะเป็นของผมวะ   \n",
      "\n",
      "                  author_location  \\\n",
      "17                        Bangkok   \n",
      "40                           None   \n",
      "6568                         None   \n",
      "11315  City of Angels, Bangkok ^^   \n",
      "9051       อุบลราชธานี, ประเทศไทย   \n",
      "...                           ...   \n",
      "91                           None   \n",
      "11093           ไม่ๆ คือเราแค่บ่น   \n",
      "11433        MADE IN 🇹🇭 | L-1485🚩   \n",
      "199                          None   \n",
      "12446                        None   \n",
      "\n",
      "                                                   tweet  \\\n",
      "17     พริกไทยดำ ที่มีสารไพเพอรีน ช่วยลดผลกระทบจากภาว...   \n",
      "40     แค่ 3 นาทีต่อวันป้องกันสมองเสื่อมได้ https://t...   \n",
      "6568   ทำงานหนักจนนอนไม่หลับ 😟😟😟\\nเพิ่มความยากอาหาร=โ...   \n",
      "11315  ไม่อยาก #สมองเสื่อม ก่อนวัย ดูแลผู้ป่วยสมองเสื...   \n",
      "9051   ✦ประโยชน์จากสารสกัดจากเมล็ดองุ่น  \\n- ป้องกันร...   \n",
      "...                                                  ...   \n",
      "91     เรื่องเกิดที่ไหนให้มันจบที่นั่น  เอามาลง ทวิตท...   \n",
      "11093  @oppabaekhyuneee พี่ว่าพี่ใจเย็นละนะ แต่มันเลย...   \n",
      "11433  เคยโดนพี่ว่าอยู่ตอนเด็กว่าสมองเสื่อมหรอทคือตอน...   \n",
      "199                       @sorkorlao สลิ่มสมองเสื่อมครับ   \n",
      "12446               @TENZO99X อยู่ๆก็สมองเสื่อมเฉียบพลัน   \n",
      "\n",
      "                      created_at  retweets  replies  likes  quote_count  \\\n",
      "17     2022-04-29 03:42:36+00:00       0.0      0.0    0.0          0.0   \n",
      "40     2022-04-26 12:23:37+00:00       0.0      0.0    0.0          0.0   \n",
      "6568   2020-04-01 06:22:47+00:00       0.0      0.0    1.0          0.0   \n",
      "11315  2018-03-02 04:27:03+00:00       2.0      0.0    0.0          0.0   \n",
      "9051   2019-04-03 01:55:28+00:00       0.0      0.0    0.0          0.0   \n",
      "...                          ...       ...      ...    ...          ...   \n",
      "91     2022-04-20 06:17:12+00:00      27.0      2.0   21.0          1.0   \n",
      "11093  2018-04-02 16:57:21+00:00       0.0      1.0    0.0          0.0   \n",
      "11433  2018-02-12 04:18:44+00:00       0.0      1.0    0.0          0.0   \n",
      "199    2022-04-12 01:03:29+00:00       0.0      0.0    0.0          0.0   \n",
      "12446  2017-07-01 11:28:09+00:00       0.0      0.0    0.0          0.0   \n",
      "\n",
      "             Iden Sentiment   Topic  \\\n",
      "17     Commercial   Neutral     Ads   \n",
      "40     Commercial   Neutral     Ads   \n",
      "6568      General   Neutral     Ads   \n",
      "11315     General  Positive     Ads   \n",
      "9051      General  Positive     Ads   \n",
      "...           ...       ...     ...   \n",
      "91        General  Negative  Weapon   \n",
      "11093     General  Negative  Weapon   \n",
      "11433     General  Negative  Weapon   \n",
      "199       General  Negative  Weapon   \n",
      "12446     General  Negative  Weapon   \n",
      "\n",
      "                                               processed  \\\n",
      "17     พริกไทยดำ ที่มีสารไพเพอรีน ช่วยลดผลกระทบจากภาว...   \n",
      "40                    แค่ นาทีต่อวันป้องกันสมองเสื่อมได้   \n",
      "6568   ทำงานหนักจนนอนไม่หลับ เพิ่มความยากอาหาร โรคอ้ว...   \n",
      "11315  ไม่อยาก สมองเสื่อม ก่อนวัย ดูแลผู้ป่วยสมองเสื่...   \n",
      "9051   ประโยชน์จากสารสกัดจากเมล็ดองุ่น ป้องกันริ้วรอย...   \n",
      "...                                                  ...   \n",
      "91     เรื่องเกิดที่ไหนให้มันจบที่นั่น เอามาลง ทวิตทำ...   \n",
      "11093  พี่ว่าพี่ใจเย็นละนะ แต่มันเลยภายในอาทิตย์ วันน...   \n",
      "11433  เคยโดนพี่ว่าอยู่ตอนเด็กว่าสมองเสื่อมหรอทคือตอน...   \n",
      "199                                  สลิ่มสมองเสื่อมครับ   \n",
      "12446                         อยู่ ก็สมองเสื่อมเฉียบพลัน   \n",
      "\n",
      "                                              translated  \\\n",
      "17     Black pepper with piperine It can help reduce ...   \n",
      "40        Just a few minutes a day can prevent dementia.   \n",
      "6568   Work hard until you can't sleep. Increase appe...   \n",
      "11315  I don't want dementia before age. How to take ...   \n",
      "9051   Benefits of Grape Seed Extract Prevent wrinkle...   \n",
      "...                                                  ...   \n",
      "91               Where does the story have to end there?   \n",
      "11093  I say you are cool. But it's gone within a wee...   \n",
      "11433  Used to be hit by elder when I was a child tha...   \n",
      "199                                      Demented brain.   \n",
      "12446                          Acute brain deterioration   \n",
      "\n",
      "                                            tr_processed  \n",
      "17     black pepper with piperine it can help reduce ...  \n",
      "40         just a few minutes a day can prevent dementia  \n",
      "6568   work hard until you cannot sleep increase appe...  \n",
      "11315  i do not want dementia before age how to take ...  \n",
      "9051   benefits of grape seed extract prevent wrinkle...  \n",
      "...                                                  ...  \n",
      "91                where does the story have to end there  \n",
      "11093  i say you are cool but it is gone within a wee...  \n",
      "11433  used to be hit by elder when i was a child tha...  \n",
      "199                                       demented brain  \n",
      "12446                          acute brain deterioration  \n",
      "\n",
      "[309 rows x 19 columns]\n"
     ]
    }
   ],
   "source": [
    "random_df = df.groupby('Topic', group_keys=False).apply(lambda x: x.sample(min(len(x), 30), random_state=42))\n",
    "print(random_df)"
   ]
  },
  {
   "cell_type": "code",
   "execution_count": 62,
   "id": "d339650f",
   "metadata": {},
   "outputs": [],
   "source": [
    "random_df.to_csv('sample_tweets_random.csv', index=False)"
   ]
  },
  {
   "cell_type": "code",
   "execution_count": 63,
   "id": "9d6b5dde",
   "metadata": {},
   "outputs": [
    {
     "name": "stdout",
     "output_type": "stream",
     "text": [
      "Personal 30\n",
      "Prevention 30\n",
      "Fact 30\n",
      "NA 30\n",
      "Weapon 30\n",
      "Ridicule 30\n",
      "Joke 30\n",
      "Misuse 30\n",
      "Ads 17\n",
      "Advocacy 16\n",
      "Symptom 10\n",
      "Research 10\n",
      "Figurative 4\n",
      "Risk 3\n",
      "Symptoms 2\n",
      "Undefine 2\n",
      "Diagnosis 2\n",
      "Treatment 2\n",
      "Undefined 1\n"
     ]
    }
   ],
   "source": [
    "Topic_counts = random_df['Topic'].value_counts()\n",
    "for Topic, count in Topic_counts.items():\n",
    "    print(Topic, count)"
   ]
  },
  {
   "cell_type": "code",
   "execution_count": null,
   "id": "299738ec",
   "metadata": {},
   "outputs": [],
   "source": []
  }
 ],
 "metadata": {
  "kernelspec": {
   "display_name": "Python [conda env:root] *",
   "language": "python",
   "name": "conda-root-py"
  },
  "language_info": {
   "codemirror_mode": {
    "name": "ipython",
    "version": 3
   },
   "file_extension": ".py",
   "mimetype": "text/x-python",
   "name": "python",
   "nbconvert_exporter": "python",
   "pygments_lexer": "ipython3",
   "version": "3.8.5"
  }
 },
 "nbformat": 4,
 "nbformat_minor": 5
}

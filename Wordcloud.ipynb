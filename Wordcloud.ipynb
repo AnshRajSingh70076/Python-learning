{
  "cells": [
    {
      "cell_type": "markdown",
      "metadata": {
        "id": "view-in-github",
        "colab_type": "text"
      },
      "source": [
        "<a href=\"https://colab.research.google.com/github/tlerksuthirat/Python-learning/blob/master/Wordcloud.ipynb\" target=\"_parent\"><img src=\"https://colab.research.google.com/assets/colab-badge.svg\" alt=\"Open In Colab\"/></a>"
      ]
    },
    {
      "cell_type": "code",
      "source": [
        "!wget -O scopus.csv https://raw.githubusercontent.com/tlerksuthirat/sample-dataset/master/scopus.csv"
      ],
      "metadata": {
        "id": "m4s2sflkz-k6"
      },
      "id": "m4s2sflkz-k6",
      "execution_count": null,
      "outputs": []
    },
    {
      "cell_type": "code",
      "execution_count": null,
      "id": "b6c9d60f",
      "metadata": {
        "id": "b6c9d60f"
      },
      "outputs": [],
      "source": [
        "from wordcloud import WordCloud, STOPWORDS, ImageColorGenerator\n",
        "import matplotlib.pyplot as plt\n",
        "import os\n",
        "import pandas as pd\n",
        "import nltk"
      ]
    },
    {
      "cell_type": "code",
      "execution_count": null,
      "id": "ad042259",
      "metadata": {
        "id": "ad042259"
      },
      "outputs": [],
      "source": [
        "nltk.download('stopwords')"
      ]
    },
    {
      "cell_type": "code",
      "execution_count": null,
      "id": "143e3da9",
      "metadata": {
        "id": "143e3da9"
      },
      "outputs": [],
      "source": [
        "from nltk.corpus import stopwords\n",
        "# Load the stop words\n",
        "comm_words = set(stopwords.words('english'))"
      ]
    },
    {
      "cell_type": "code",
      "source": [
        "print(comm_words)"
      ],
      "metadata": {
        "id": "22OuMbDkzIZB"
      },
      "id": "22OuMbDkzIZB",
      "execution_count": null,
      "outputs": []
    },
    {
      "cell_type": "code",
      "execution_count": null,
      "id": "2deef923",
      "metadata": {
        "id": "2deef923"
      },
      "outputs": [],
      "source": [
        "df = pd.read_csv('/content/scopus.csv')"
      ]
    },
    {
      "cell_type": "code",
      "source": [
        "col = df.columns\n",
        "len = df.shape\n",
        "print(f\"column name = {col}\\nno. row = {len}\")"
      ],
      "metadata": {
        "id": "jghkf7Ujtitq"
      },
      "id": "jghkf7Ujtitq",
      "execution_count": null,
      "outputs": []
    },
    {
      "cell_type": "code",
      "source": [
        "df.head(3)"
      ],
      "metadata": {
        "id": "bIUnOWf1uMhG"
      },
      "id": "bIUnOWf1uMhG",
      "execution_count": null,
      "outputs": []
    },
    {
      "cell_type": "code",
      "execution_count": null,
      "id": "50e6e34f",
      "metadata": {
        "id": "50e6e34f"
      },
      "outputs": [],
      "source": [
        "text1 = ''.join(df['Abstract'])"
      ]
    },
    {
      "cell_type": "code",
      "execution_count": null,
      "id": "01735dce",
      "metadata": {
        "scrolled": true,
        "id": "01735dce"
      },
      "outputs": [],
      "source": [
        "wordcloud1_EN = WordCloud(stopwords=comm_words, background_color=\"white\",width=1800, height=1000,max_words=400,collocations=False,\n",
        "                      relative_scaling = 0.4, colormap = \"gray\", prefer_horizontal =1,random_state = 42).generate(text1)\n",
        "\n",
        "plt.imshow(wordcloud1_EN, interpolation='bilinear')\n",
        "ax = plt.gca()\n",
        "ax.axes.xaxis.set_visible(False)\n",
        "ax.axes.yaxis.set_visible(False)\n",
        "plt.savefig('abstract.png', dpi=300, format='png', bbox_inches='tight')\n",
        "plt.axis(\"off\")\n",
        "plt.show()"
      ]
    },
    {
      "cell_type": "code",
      "execution_count": null,
      "id": "d661d938",
      "metadata": {
        "id": "d661d938"
      },
      "outputs": [],
      "source": [
        "word_freq1_EN = pd.DataFrame.from_dict(wordcloud1_EN.words_, orient='index',columns=['frequency']) "
      ]
    },
    {
      "cell_type": "code",
      "execution_count": null,
      "id": "9c1c410c",
      "metadata": {
        "id": "9c1c410c"
      },
      "outputs": [],
      "source": [
        "word_freq1_EN.to_csv('word_freq.csv', index=True)"
      ]
    },
    {
      "cell_type": "code",
      "source": [
        "# Define the additional stopwords\n",
        "additional_stopwords = ['meditation', 'result']\n",
        "comm_words.update(additional_stopwords)\n",
        "print(comm_words)"
      ],
      "metadata": {
        "id": "pwwZmSC3yRyv"
      },
      "id": "pwwZmSC3yRyv",
      "execution_count": null,
      "outputs": []
    },
    {
      "cell_type": "code",
      "source": [
        "wordcloud2_EN = WordCloud(stopwords=comm_words, background_color=\"white\",width=1800, height=1000,max_words=400,collocations=False,\n",
        "                      relative_scaling = 0.4, colormap = \"gray\", prefer_horizontal =1,random_state = 42).generate(text1)\n",
        "\n",
        "plt.imshow(wordcloud2_EN, interpolation='bilinear')\n",
        "ax = plt.gca()\n",
        "ax.axes.xaxis.set_visible(False)\n",
        "ax.axes.yaxis.set_visible(False)\n",
        "plt.savefig('abstract2.png', dpi=300, format='png', bbox_inches='tight')\n",
        "plt.axis(\"off\")\n",
        "plt.show()"
      ],
      "metadata": {
        "id": "addsbKVAzSoU"
      },
      "id": "addsbKVAzSoU",
      "execution_count": null,
      "outputs": []
    }
  ],
  "metadata": {
    "kernelspec": {
      "display_name": "Python [conda env:cannabis]",
      "language": "python",
      "name": "conda-env-cannabis-py"
    },
    "language_info": {
      "codemirror_mode": {
        "name": "ipython",
        "version": 3
      },
      "file_extension": ".py",
      "mimetype": "text/x-python",
      "name": "python",
      "nbconvert_exporter": "python",
      "pygments_lexer": "ipython3",
      "version": "3.8.12"
    },
    "colab": {
      "provenance": [],
      "toc_visible": true,
      "include_colab_link": true
    }
  },
  "nbformat": 4,
  "nbformat_minor": 5
}
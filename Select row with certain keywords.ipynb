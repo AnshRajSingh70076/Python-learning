{
  "cells": [
    {
      "cell_type": "code",
      "execution_count": null,
      "id": "fcb28416",
      "metadata": {
        "id": "fcb28416"
      },
      "outputs": [],
      "source": [
        "import pandas as pd\n",
        "import os"
      ]
    },
    {
      "cell_type": "code",
      "execution_count": null,
      "id": "e49bee58",
      "metadata": {
        "id": "e49bee58",
        "outputId": "d67ac3d9-00b1-4a08-aae8-102167742a9f"
      },
      "outputs": [
        {
          "data": {
            "text/plain": [
              "'C:\\\\Users\\\\tassa\\\\Desktop\\\\##Dementia'"
            ]
          },
          "execution_count": 12,
          "metadata": {},
          "output_type": "execute_result"
        }
      ],
      "source": [
        "os.getcwd()"
      ]
    },
    {
      "cell_type": "code",
      "execution_count": null,
      "id": "15e36530",
      "metadata": {
        "id": "15e36530"
      },
      "outputs": [],
      "source": [
        "# Read the input CSV file into a pandas DataFrame\n",
        "df = pd.read_csv('06_2017-2022_TH_translate_process_sent.csv')"
      ]
    },
    {
      "cell_type": "code",
      "execution_count": null,
      "id": "c388b002",
      "metadata": {
        "id": "c388b002",
        "outputId": "335137bf-c99c-4206-bf20-d767733a0717"
      },
      "outputs": [
        {
          "data": {
            "text/plain": [
              "Index(['author_id', 'geo.place_id', 'username', 'author_followers',\n",
              "       'author_tweets', 'author_description', 'author_location', 'tweet',\n",
              "       'created_at', 'retweets', 'replies', 'likes', 'quote_count',\n",
              "       'processed', 'translated', 'tr_processed', 'sentiment_transformer',\n",
              "       'transformer_score', 'new_sentiment'],\n",
              "      dtype='object')"
            ]
          },
          "execution_count": 16,
          "metadata": {},
          "output_type": "execute_result"
        }
      ],
      "source": [
        "df.columns"
      ]
    },
    {
      "cell_type": "code",
      "execution_count": null,
      "id": "5ff05577",
      "metadata": {
        "id": "5ff05577"
      },
      "outputs": [],
      "source": [
        "# Define the keywords to search for and the column to search in\n",
        "keywords = ['alzheimer', 'doctor']\n",
        "search_column = 'tr_processed'\n",
        "\n",
        "# Filter the DataFrame to select rows where the search column contains any of the keywords\n",
        "#To change from \"AND\" to \"OR\", replace & with | in the condition.\n",
        "mask = df[search_column].str.contains('|'.join(keywords))\n",
        "filtered_df = df.loc[mask]\n",
        "\n",
        "# Write/Save the filtered DataFrame to the output CSV file\n",
        "filtered_df.to_csv('output_kw.csv', index=False)"
      ]
    }
  ],
  "metadata": {
    "kernelspec": {
      "display_name": "Python 3",
      "language": "python",
      "name": "python3"
    },
    "language_info": {
      "codemirror_mode": {
        "name": "ipython",
        "version": 3
      },
      "file_extension": ".py",
      "mimetype": "text/x-python",
      "name": "python",
      "nbconvert_exporter": "python",
      "pygments_lexer": "ipython3",
      "version": "3.8.5"
    },
    "colab": {
      "provenance": []
    }
  },
  "nbformat": 4,
  "nbformat_minor": 5
}
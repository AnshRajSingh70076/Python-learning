{
 "cells": [
  {
   "cell_type": "code",
   "execution_count": 11,
   "id": "fcb28416",
   "metadata": {},
   "outputs": [],
   "source": [
    "import pandas as pd\n",
    "import os"
   ]
  },
  {
   "cell_type": "code",
   "execution_count": 12,
   "id": "e49bee58",
   "metadata": {},
   "outputs": [
    {
     "data": {
      "text/plain": [
       "'C:\\\\Users\\\\tassa\\\\Desktop\\\\##Dementia'"
      ]
     },
     "execution_count": 12,
     "metadata": {},
     "output_type": "execute_result"
    }
   ],
   "source": [
    "os.getcwd()"
   ]
  },
  {
   "cell_type": "code",
   "execution_count": 13,
   "id": "15e36530",
   "metadata": {},
   "outputs": [],
   "source": [
    "# Read the input CSV file into a pandas DataFrame\n",
    "df = pd.read_csv('06_2017-2022_TH_translate_process_sent.csv')"
   ]
  },
  {
   "cell_type": "code",
   "execution_count": 16,
   "id": "c388b002",
   "metadata": {},
   "outputs": [
    {
     "data": {
      "text/plain": [
       "Index(['author_id', 'geo.place_id', 'username', 'author_followers',\n",
       "       'author_tweets', 'author_description', 'author_location', 'tweet',\n",
       "       'created_at', 'retweets', 'replies', 'likes', 'quote_count',\n",
       "       'processed', 'translated', 'tr_processed', 'sentiment_transformer',\n",
       "       'transformer_score', 'new_sentiment'],\n",
       "      dtype='object')"
      ]
     },
     "execution_count": 16,
     "metadata": {},
     "output_type": "execute_result"
    }
   ],
   "source": [
    "df.columns"
   ]
  },
  {
   "cell_type": "code",
   "execution_count": 23,
   "id": "5ff05577",
   "metadata": {},
   "outputs": [],
   "source": [
    "# Define the keywords to search for and the column to search in\n",
    "keywords = ['alzheimer', 'doctor']\n",
    "search_column = 'tr_processed'\n",
    "\n",
    "# Filter the DataFrame to select rows where the search column contains any of the keywords\n",
    "#To change from \"AND\" to \"OR\", replace & with | in the condition.\n",
    "mask = df[search_column].str.contains('|'.join(keywords))\n",
    "filtered_df = df.loc[mask]\n",
    "\n",
    "# Write/Save the filtered DataFrame to the output CSV file\n",
    "filtered_df.to_csv('output_kw.csv', index=False)"
   ]
  },
  {
   "cell_type": "code",
   "execution_count": null,
   "id": "6d0c60c0",
   "metadata": {},
   "outputs": [],
   "source": [
    "import chardet\n",
    "\n",
    "# Detect the character encoding of the input file\n",
    "with open('input.csv', 'rb') as input_file:\n",
    "    result = chardet.detect(input_file.read())\n",
    "encoding = result['encoding']\n",
    "\n",
    "# Open the input file with the detected character encoding\n",
    "with open('input.csv', 'r', encoding=encoding) as input_file:\n",
    "    reader = csv.reader(input_file)\n",
    "    # ...\n",
    "    "
   ]
  }
 ],
 "metadata": {
  "kernelspec": {
   "display_name": "Python 3",
   "language": "python",
   "name": "python3"
  },
  "language_info": {
   "codemirror_mode": {
    "name": "ipython",
    "version": 3
   },
   "file_extension": ".py",
   "mimetype": "text/x-python",
   "name": "python",
   "nbconvert_exporter": "python",
   "pygments_lexer": "ipython3",
   "version": "3.8.5"
  }
 },
 "nbformat": 4,
 "nbformat_minor": 5
}

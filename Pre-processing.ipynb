{
  "cells": [
    {
      "cell_type": "code",
      "source": [
        "pip install contractions"
      ],
      "metadata": {
        "id": "5C2xcfnsz5Bg"
      },
      "id": "5C2xcfnsz5Bg",
      "execution_count": null,
      "outputs": []
    },
    {
      "cell_type": "code",
      "execution_count": null,
      "id": "fcb28416",
      "metadata": {
        "id": "fcb28416"
      },
      "outputs": [],
      "source": [
        "import pandas as pd\n",
        "import contractions"
      ]
    },
    {
      "cell_type": "code",
      "execution_count": null,
      "id": "15e36530",
      "metadata": {
        "id": "15e36530"
      },
      "outputs": [],
      "source": [
        "# Read the input CSV file into a pandas DataFrame\n",
        "df = pd.read_csv('/content/01_2018_07_1_EN.csv')"
      ]
    },
    {
      "cell_type": "code",
      "execution_count": null,
      "id": "a79895ab",
      "metadata": {
        "id": "a79895ab"
      },
      "outputs": [],
      "source": [
        "#Check the numbers of column and row\n",
        "df.shape"
      ]
    },
    {
      "cell_type": "code",
      "execution_count": null,
      "id": "c388b002",
      "metadata": {
        "id": "c388b002"
      },
      "outputs": [],
      "source": [
        "df.columns"
      ]
    },
    {
      "cell_type": "code",
      "execution_count": null,
      "id": "5ff05577",
      "metadata": {
        "id": "5ff05577"
      },
      "outputs": [],
      "source": [
        "#For tweet column\n",
        "#Create new column called tweet -> replace http with space\n",
        "df['processed']= df['tweet'].replace(r'http\\S+', ' ', regex=True)\n",
        "#Using contractions library to expand common contractions - see https://github.com/kootenpv/contractions\n",
        "df['processed']=df['processed'].apply(contractions.fix)\n",
        "#Splits the text into a list of words and removes any words that start with \"@\" and joins the list of words back into a string with spaces between them\n",
        "df['processed']=df['processed'].apply(lambda x :[t for t in x.split() if not t.startswith('@')] ).apply(lambda x: ' '.join(x))\n",
        "#Replaces any non-alphabetic characters (including non-ASCII characters used in the Thai language) with a space.\n",
        "df['processed']= df['processed'].replace(r'[^A-Za-zก-๏]+', ' ', regex=True)\n",
        "#Replaces any Thai characters (from the ranges ก-๙) with a space\n",
        "df['processed']= df['processed'].replace(r'[ก-๙]+', ' ', regex=True)\n",
        "#Remove any leading or trailing whitespace from each string in the column\n",
        "df['processed']=df['processed'].apply(lambda x : x.strip())\n",
        "#To convert alll capital letters to small\n",
        "df['processed']=df['processed'].str.lower()"
      ]
    },
    {
      "cell_type": "code",
      "execution_count": null,
      "id": "3495a76b",
      "metadata": {
        "id": "3495a76b"
      },
      "outputs": [],
      "source": [
        "#Remove the row which column 'processed' contains empty string\n",
        "df = df[df.processed != '']"
      ]
    },
    {
      "cell_type": "code",
      "execution_count": null,
      "id": "c37cc376",
      "metadata": {
        "id": "c37cc376"
      },
      "outputs": [],
      "source": [
        "#Check the numbers of column and row\n",
        "df.shape"
      ]
    },
    {
      "cell_type": "code",
      "execution_count": null,
      "id": "db164439",
      "metadata": {
        "id": "db164439"
      },
      "outputs": [],
      "source": [
        "#Remove the row which column 'processed' contains the same string\n",
        "df_unique = df.drop_duplicates(['processed'])"
      ]
    },
    {
      "cell_type": "code",
      "execution_count": null,
      "id": "b5290670",
      "metadata": {
        "id": "b5290670"
      },
      "outputs": [],
      "source": [
        "#Check the numbers of column and row\n",
        "df_unique.shape"
      ]
    },
    {
      "cell_type": "code",
      "execution_count": null,
      "id": "af23781b",
      "metadata": {
        "id": "af23781b"
      },
      "outputs": [],
      "source": [
        "#Save file\n",
        "df_unique.to_csv('output.csv', index=False)"
      ]
    }
  ],
  "metadata": {
    "kernelspec": {
      "display_name": "Python 3",
      "language": "python",
      "name": "python3"
    },
    "language_info": {
      "codemirror_mode": {
        "name": "ipython",
        "version": 3
      },
      "file_extension": ".py",
      "mimetype": "text/x-python",
      "name": "python",
      "nbconvert_exporter": "python",
      "pygments_lexer": "ipython3",
      "version": "3.8.5"
    },
    "colab": {
      "provenance": []
    }
  },
  "nbformat": 4,
  "nbformat_minor": 5
}
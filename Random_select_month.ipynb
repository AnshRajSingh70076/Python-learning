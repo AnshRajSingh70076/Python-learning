{
  "cells": [
    {
      "cell_type": "code",
      "execution_count": null,
      "id": "b41b667c",
      "metadata": {
        "id": "b41b667c"
      },
      "outputs": [],
      "source": [
        "import pandas as pd\n",
        "from datetime import datetime\n",
        "import numpy as np"
      ]
    },
    {
      "cell_type": "code",
      "execution_count": null,
      "id": "5c9f7a53",
      "metadata": {
        "id": "5c9f7a53"
      },
      "outputs": [],
      "source": [
        "df = pd.read_csv('file_name.csv')"
      ]
    },
    {
      "cell_type": "code",
      "execution_count": null,
      "id": "03845746",
      "metadata": {
        "id": "03845746"
      },
      "outputs": [],
      "source": [
        "df.columns"
      ]
    },
    {
      "cell_type": "markdown",
      "id": "76767ec9",
      "metadata": {
        "id": "76767ec9"
      },
      "source": [
        "Read more on set seed: https://www.w3schools.com/python/ref_random_seed.asp#:~:text=The%20seed()%20method%20is,uses%20the%20current%20system%20time."
      ]
    },
    {
      "cell_type": "code",
      "execution_count": null,
      "id": "fff5fef7",
      "metadata": {
        "id": "fff5fef7"
      },
      "outputs": [],
      "source": [
        "#set seed to fix the random sampling\n",
        "np.random.seed(42)"
      ]
    },
    {
      "cell_type": "code",
      "execution_count": null,
      "id": "d2891bdb",
      "metadata": {
        "id": "d2891bdb"
      },
      "outputs": [],
      "source": [
        "df['date'] = pd.to_datetime(df['created_at'])\n",
        "df['month'] = df['date'].dt.month\n",
        "df['year'] = df['date'].dt.year"
      ]
    },
    {
      "cell_type": "code",
      "execution_count": null,
      "id": "525e9dbb",
      "metadata": {
        "id": "525e9dbb"
      },
      "outputs": [],
      "source": [
        "grouped = df.groupby(['year', 'month'])\n",
        "#change the number in parentheses -- this case, we want to random 5 rows/month\n",
        "result = grouped.apply(lambda x: x.sample(5))"
      ]
    },
    {
      "cell_type": "code",
      "execution_count": null,
      "id": "7567772f",
      "metadata": {
        "id": "7567772f"
      },
      "outputs": [],
      "source": [
        "result.to_csv('your_file_name.csv', index = False)"
      ]
    }
  ],
  "metadata": {
    "kernelspec": {
      "display_name": "Python [conda env:dementia]",
      "language": "python",
      "name": "conda-env-dementia-py"
    },
    "language_info": {
      "codemirror_mode": {
        "name": "ipython",
        "version": 3
      },
      "file_extension": ".py",
      "mimetype": "text/x-python",
      "name": "python",
      "nbconvert_exporter": "python",
      "pygments_lexer": "ipython3",
      "version": "3.10.9"
    },
    "colab": {
      "provenance": []
    }
  },
  "nbformat": 4,
  "nbformat_minor": 5
}
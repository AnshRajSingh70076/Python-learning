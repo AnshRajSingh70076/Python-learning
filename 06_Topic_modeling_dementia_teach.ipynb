{
  "cells": [
    {
      "cell_type": "markdown",
      "id": "e985762c",
      "metadata": {
        "id": "e985762c"
      },
      "source": [
        "Ref:<br>\n",
        "https://github.com/MaartenGr/BERTopic<br>\n",
        "https://scikit-learn.org/0.19/modules/generated/sklearn.datasets.fetch_20newsgroups.html#sklearn.datasets.fetch_20newsgroups<br>\n",
        "https://towardsdatascience.com/meet-bertopic-berts-cousin-for-advanced-topic-modeling-ea5bf0b7faa3<br>\n",
        "https://www.youtube.com/watch?v=sZcGuYHWN_w<br>\n",
        "https://maartengr.github.io/BERTopic/index.html<br>"
      ]
    },
    {
      "cell_type": "code",
      "execution_count": null,
      "id": "da3dcc19",
      "metadata": {
        "scrolled": false,
        "id": "da3dcc19"
      },
      "outputs": [],
      "source": [
        "!pip install bertopic"
      ]
    },
    {
      "cell_type": "code",
      "execution_count": null,
      "id": "3c3059ce",
      "metadata": {
        "scrolled": false,
        "id": "3c3059ce"
      },
      "outputs": [],
      "source": [
        "pip install ipywidgets"
      ]
    },
    {
      "cell_type": "code",
      "execution_count": 5,
      "id": "1d0bc3ae",
      "metadata": {
        "scrolled": true,
        "id": "1d0bc3ae"
      },
      "outputs": [],
      "source": [
        "from bertopic import BERTopic\n",
        "from sklearn.datasets import fetch_20newsgroups\n",
        "from umap import UMAP"
      ]
    },
    {
      "cell_type": "code",
      "execution_count": 7,
      "id": "a9d6c454",
      "metadata": {
        "id": "a9d6c454"
      },
      "outputs": [],
      "source": [
        "import pandas as pd\n",
        "df = pd.read_csv('/content/filename.csv')"
      ]
    },
    {
      "cell_type": "code",
      "execution_count": 8,
      "id": "e3839c4a",
      "metadata": {
        "colab": {
          "base_uri": "https://localhost:8080/"
        },
        "id": "e3839c4a",
        "outputId": "72e3d2ec-3024-49cf-c917-85156c4ba5c8"
      },
      "outputs": [
        {
          "output_type": "execute_result",
          "data": {
            "text/plain": [
              "(15246, 19)"
            ]
          },
          "metadata": {},
          "execution_count": 8
        }
      ],
      "source": [
        "df.shape"
      ]
    },
    {
      "cell_type": "code",
      "execution_count": 9,
      "id": "f2d396a3",
      "metadata": {
        "colab": {
          "base_uri": "https://localhost:8080/"
        },
        "id": "f2d396a3",
        "outputId": "edeacd33-5b77-4a0c-ed11-b1dbf2ac64d1"
      },
      "outputs": [
        {
          "output_type": "execute_result",
          "data": {
            "text/plain": [
              "Index(['author_id', 'geo.place_id', 'username', 'author_followers',\n",
              "       'author_tweets', 'author_description', 'author_location', 'tweet',\n",
              "       'created_at', 'retweets', 'replies', 'likes', 'quote_count',\n",
              "       'processed', 'translated', 'tr_processed', 'sentiment_transformer',\n",
              "       'transformer_score', 'new_sentiment'],\n",
              "      dtype='object')"
            ]
          },
          "metadata": {},
          "execution_count": 9
        }
      ],
      "source": [
        "df.columns"
      ]
    },
    {
      "cell_type": "code",
      "execution_count": 10,
      "id": "8e3bab0e",
      "metadata": {
        "id": "8e3bab0e"
      },
      "outputs": [],
      "source": [
        "doc = list(df.tr_processed)"
      ]
    },
    {
      "cell_type": "code",
      "execution_count": null,
      "id": "1b65caba",
      "metadata": {
        "scrolled": false,
        "id": "1b65caba"
      },
      "outputs": [],
      "source": [
        "topic_model = BERTopic()\n",
        "umap_model = UMAP(n_neighbors=15, n_components=5, \n",
        "                  min_dist=0.0, metric='cosine', random_state=42)\n",
        "topic_model = BERTopic(umap_model=umap_model, top_n_words = 15)\n",
        "topics, probs = topic_model.fit_transform(doc)"
      ]
    },
    {
      "cell_type": "code",
      "execution_count": null,
      "id": "023c5df0",
      "metadata": {
        "scrolled": true,
        "id": "023c5df0"
      },
      "outputs": [],
      "source": [
        "topic_info = topic_model.get_topic_info()\n",
        "topic_info_result = topic_model.get_topics()\n",
        "topic_info_result_df = pd.DataFrame.from_dict(topic_info_result)"
      ]
    },
    {
      "cell_type": "code",
      "execution_count": 16,
      "id": "8b998fdb",
      "metadata": {
        "colab": {
          "base_uri": "https://localhost:8080/"
        },
        "id": "8b998fdb",
        "outputId": "ae3a8209-3302-4bcf-e9cb-48fc15cbf6dd"
      },
      "outputs": [
        {
          "output_type": "execute_result",
          "data": {
            "text/plain": [
              "['dementia for sure head hit f thailandep',\n",
              " 'fallen head hit dementia',\n",
              " 'iron rust if it sticks deep corrosion can cause steel to break especially if it is forged steel just a moment it will be broken the more you get cut you need to get an injection to prevent dementia eh to prevent tetanus']"
            ]
          },
          "metadata": {},
          "execution_count": 16
        }
      ],
      "source": [
        "topic_model.get_representative_docs(5)"
      ]
    }
  ],
  "metadata": {
    "kernelspec": {
      "display_name": "Python [conda env:dementia]",
      "language": "python",
      "name": "conda-env-dementia-py"
    },
    "language_info": {
      "codemirror_mode": {
        "name": "ipython",
        "version": 3
      },
      "file_extension": ".py",
      "mimetype": "text/x-python",
      "name": "python",
      "nbconvert_exporter": "python",
      "pygments_lexer": "ipython3",
      "version": "3.10.9"
    },
    "colab": {
      "provenance": []
    }
  },
  "nbformat": 4,
  "nbformat_minor": 5
}